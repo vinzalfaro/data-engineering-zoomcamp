{
 "cells": [
  {
   "cell_type": "code",
   "execution_count": null,
   "metadata": {},
   "outputs": [],
   "source": [
    "from time import time\n",
    "\n",
    "import pandas as pd\n",
    "from sqlalchemy import create_engine\n",
    "\n",
    "\n",
    "def ingest_callable(user, password, host, port, db, table_name, csv_file, execution_date):\n",
    "    print(table_name, csv_file, execution_date)\n",
    "\n",
    "    engine = create_engine(f'postgresql://{user}:{password}@{host}:{port}/{db}')\n",
    "    engine.connect()\n",
    "\n",
    "    print('connection established successfully, inserting data...')\n",
    "\n",
    "    t_start = time()\n",
    "    df_iter = pd.read_csv(csv_file, iterator=True, chunksize=100000)\n",
    "\n",
    "    df = next(df_iter)\n",
    "\n",
    "    df.tpep_pickup_datetime = pd.to_datetime(df.tpep_pickup_datetime)\n",
    "    df.tpep_dropoff_datetime = pd.to_datetime(df.tpep_dropoff_datetime)\n",
    "\n",
    "    df.head(n=0).to_sql(name=table_name, con=engine, if_exists='replace')\n",
    "\n",
    "    df.to_sql(name=table_name, con=engine, if_exists='append')\n",
    "\n",
    "    t_end = time()\n",
    "    print('inserted the first chunk, took %.3f second' % (t_end - t_start))\n",
    "\n",
    "    while True: \n",
    "        t_start = time()\n",
    "\n",
    "        try:\n",
    "            df = next(df_iter)\n",
    "        except StopIteration:\n",
    "            print(\"completed\")\n",
    "            break\n",
    "\n",
    "        df.tpep_pickup_datetime = pd.to_datetime(df.tpep_pickup_datetime)\n",
    "        df.tpep_dropoff_datetime = pd.to_datetime(df.tpep_dropoff_datetime)\n",
    "\n",
    "        df.to_sql(name=table_name, con=engine, if_exists='append')\n",
    "\n",
    "        t_end = time()\n",
    "\n",
    "        print('inserted another chunk, took %.3f second' % (t_end - t_start))\n",
    "\n",
    "\n",
    "ingest_callable('postgres', 'password', 'localhost', '5432', 'ny_taxi', 'ingest_trial', 'output_2019_01.csv', '2019-01' )"
   ]
  }
 ],
 "metadata": {
  "kernelspec": {
   "display_name": "Python 3",
   "language": "python",
   "name": "python3"
  },
  "language_info": {
   "codemirror_mode": {
    "name": "ipython",
    "version": 3
   },
   "file_extension": ".py",
   "mimetype": "text/x-python",
   "name": "python",
   "nbconvert_exporter": "python",
   "pygments_lexer": "ipython3",
   "version": "3.11.5"
  }
 },
 "nbformat": 4,
 "nbformat_minor": 2
}
